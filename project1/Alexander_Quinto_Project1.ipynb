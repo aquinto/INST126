{
 "cells": [
  {
   "cell_type": "code",
   "execution_count": null,
   "metadata": {},
   "outputs": [
    {
     "name": "stdout",
     "output_type": "stream",
     "text": [
      "Enter operation name: \n",
      " 1. Addition\n",
      " 2. Subtraction\n",
      " 3. Multiplication\n",
      " 4. Division\n",
      " 5. Square Root\n",
      " 6. Power \n",
      " Quit to exit the calculator\n",
      "addition\n",
      "Enter two numbers: 2 2\n",
      "Answer is: 4\n",
      "\n",
      "\n",
      "Enter operation name: \n",
      " 1. Addition\n",
      " 2. Subtraction\n",
      " 3. Multiplication\n",
      " 4. Division\n",
      " 5. Square Root\n",
      " 6. Power \n",
      " Quit to exit the calculator\n"
     ]
    }
   ],
   "source": [
    "#this function handles the logic behind the calculator \n",
    "#it takes in a command parameter which is a string \n",
    "#we compare the string against the type of operation we want to do using string\n",
    "#comparison through the if statements \n",
    "#we then do the operation that matches the one selected \n",
    "#we then return the solution to the operation we did in the variable to_return\n",
    "#we are able to have the user input two numbers at a time because we split the string\n",
    "#at spaces so we can get both values \n",
    "def calculator(command):\n",
    "    to_return = 0\n",
    "    if command == \"addition\":\n",
    "        num1, num2 = input(\"Enter two numbers: \").split(\" \")\n",
    "        total = int(num1) + int(num2)\n",
    "        to_return = total\n",
    "    elif command == \"subtraction\":\n",
    "        num1, num2 = input(\"Enter two numbers: \").split(\" \")\n",
    "        total = int(num1) - int(num2)\n",
    "        to_return = total\n",
    "    elif command == \"multiplication\":\n",
    "        num1, num2 = input(\"Enter two numbers: \").split(\" \")\n",
    "        total = int(num1) * int(num2)\n",
    "        to_return = total\n",
    "    elif command ==\"division\":\n",
    "        num1, num2 = input(\"Enter two numbers: \").split(\" \")\n",
    "        total = int(num1) / int(num2)\n",
    "        to_return = total\n",
    "    elif command == \"square root\" or command == \"squareroot\":\n",
    "        num = input(\"Enter a number: \")\n",
    "        total = int(num) * (1/2)\n",
    "        to_return = total \n",
    "    elif command == \"power\":\n",
    "        num, length = input(\"Enter the number and the power: \").split(\" \")\n",
    "        total = 1\n",
    "        for x in range(0, int(length)):\n",
    "            total = total*int(num)\n",
    "        to_return = total\n",
    "    return to_return\n",
    "\n",
    "\n",
    "#handles the main program \n",
    "#we use a counter to have a while loop that will allow the user to do infinite \n",
    "#operations until they type the word quit which quits the calculator\n",
    "def main():\n",
    "    counter = 0\n",
    "    while counter != 1:\n",
    "         print(\"Enter operation name: \" \"\\n\" + \" 1. Addition\" \"\\n\"+ \" 2. Subtraction\"\"\\n\"+ \" 3. Multiplication\" \"\\n\" + \" 4. Division\" \"\\n\" + \" 5. Square Root\" \"\\n\"+ \" 6. Power \" \"\\n\" + \" Quit to exit the calculator\")\n",
    "         commandName = input().lower()\n",
    "         if commandName == \"quit\":\n",
    "                counter = 1\n",
    "                print(\"Bye bye\")\n",
    "         else:\n",
    "             to_return = calculator(commandName)\n",
    "             print(\"Answer is: \" + str(to_return))\n",
    "             print(\"\\n\")\n",
    "    \n",
    "main()"
   ]
  },
  {
   "cell_type": "markdown",
   "metadata": {},
   "source": [
    "### "
   ]
  },
  {
   "cell_type": "code",
   "execution_count": null,
   "metadata": {},
   "outputs": [],
   "source": []
  }
 ],
 "metadata": {
  "kernelspec": {
   "display_name": "Python 3",
   "language": "python",
   "name": "python3"
  },
  "language_info": {
   "codemirror_mode": {
    "name": "ipython",
    "version": 3
   },
   "file_extension": ".py",
   "mimetype": "text/x-python",
   "name": "python",
   "nbconvert_exporter": "python",
   "pygments_lexer": "ipython3",
   "version": "3.8.5"
  }
 },
 "nbformat": 4,
 "nbformat_minor": 4
}
